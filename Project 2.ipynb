{
 "cells": [
  {
   "cell_type": "code",
   "execution_count": 1,
   "metadata": {},
   "outputs": [
    {
     "name": "stdout",
     "output_type": "stream",
     "text": [
      "mean squared error:  1.8159169140609737\n",
      "r2_score:  0.9626947531903143\n"
     ]
    }
   ],
   "source": [
    "#In this project you are going to predict the overall rating of soccer player based on their attributes\n",
    "#such as 'crossing', 'finishing etc.\n",
    "\n",
    "#importing the libraries\n",
    "import sqlite3\n",
    "import pandas as pd\n",
    "from sklearn.tree import DecisionTreeRegressor\n",
    "from sklearn import preprocessing\n",
    "from sklearn.model_selection import train_test_split\n",
    "from sklearn.metrics import mean_squared_error\n",
    "from sklearn.metrics import r2_score\n",
    "\n",
    "#loading the data from database\n",
    "cnx = sqlite3.connect('database.sqlite')\n",
    "df = pd.read_sql_query(\"SELECT * FROM Player_Attributes\", cnx)\n",
    "\n",
    "#select relevant fields\n",
    "df.dropna(inplace=True)\n",
    "df.drop(['id', 'player_fifa_api_id', 'player_api_id', 'date'], axis = 1, inplace = True)\n",
    "rating = df['overall_rating']\n",
    "X = df.drop('overall_rating', axis = 1)\n",
    "\n",
    "#converting catagorical data into numbers using get_dummies function of pandas\n",
    "X = pd.get_dummies(X)\n",
    "\n",
    "#normalizing the features\n",
    "min_max_scaler = preprocessing.MinMaxScaler()\n",
    "scaled_X = min_max_scaler.fit_transform(X)\n",
    "\n",
    "#preparing training and test datasets\n",
    "X_train, X_test, y_train, y_test = train_test_split(scaled_X, rating, test_size=0.25, random_state=0)\n",
    "\n",
    "#creating the desision tree regressor and fitting the model\n",
    "model = DecisionTreeRegressor(random_state=0)\n",
    "model.fit(X_train,y_train)\n",
    "\n",
    "#predicting the values\n",
    "y_pred=model.predict(X_test)\n",
    "\n",
    "print(\"mean squared error: \",end=\" \")\n",
    "print(mean_squared_error(y_test,y_pred))\n",
    "print(\"r2_score: \",end=\" \")\n",
    "print(r2_score(y_test, y_pred))\n"
   ]
  },
  {
   "cell_type": "code",
   "execution_count": null,
   "metadata": {},
   "outputs": [],
   "source": []
  }
 ],
 "metadata": {
  "kernelspec": {
   "display_name": "Python 3",
   "language": "python",
   "name": "python3"
  },
  "language_info": {
   "codemirror_mode": {
    "name": "ipython",
    "version": 3
   },
   "file_extension": ".py",
   "mimetype": "text/x-python",
   "name": "python",
   "nbconvert_exporter": "python",
   "pygments_lexer": "ipython3",
   "version": "3.6.6"
  }
 },
 "nbformat": 4,
 "nbformat_minor": 2
}
