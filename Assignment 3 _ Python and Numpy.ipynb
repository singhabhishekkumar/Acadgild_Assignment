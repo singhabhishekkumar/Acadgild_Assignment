{
 "cells": [
  {
   "cell_type": "code",
   "execution_count": null,
   "metadata": {},
   "outputs": [],
   "source": []
  },
  {
   "cell_type": "markdown",
   "metadata": {},
   "source": [
    "# 1 Wite a program to compute 5/0 or try except "
   ]
  },
  {
   "cell_type": "code",
   "execution_count": 1,
   "metadata": {},
   "outputs": [
    {
     "name": "stdout",
     "output_type": "stream",
     "text": [
      "This is a DIVIDED BY ZERO error\n"
     ]
    }
   ],
   "source": [
    "(a,b) = (6,0)\n",
    "try:\n",
    "    g = a/b\n",
    "except ZeroDivisionError:\n",
    "    print (\"This is a DIVIDED BY ZERO error\")"
   ]
  },
  {
   "cell_type": "markdown",
   "metadata": {},
   "source": [
    "# 2 "
   ]
  },
  {
   "cell_type": "code",
   "execution_count": 14,
   "metadata": {},
   "outputs": [
    {
     "name": "stdout",
     "output_type": "stream",
     "text": [
      "Americans play Baseball \n",
      "\n",
      "Americans play Cricket \n",
      "\n",
      "Americans watch Baseball \n",
      "\n",
      "Americans watch Cricket \n",
      "\n",
      "Indian play Baseball \n",
      "\n",
      "Indian play Cricket \n",
      "\n",
      "Indian watch Baseball \n",
      "\n",
      "Indian watch Cricket \n",
      "\n"
     ]
    }
   ],
   "source": [
    "subjects=[\"Americans\",\"Indian\"]\n",
    "verbs=[\"play\",\"watch\"]\n",
    "objects=[\"Baseball\",\"Cricket\"]\n",
    "for i in subjects:\n",
    "    for j in verbs:\n",
    "        for k in objects:\n",
    "            print(i,end=' ')\n",
    "            print(j,end=' ')\n",
    "            print(k,end=' ')\n",
    "            print(\"\\n\")"
   ]
  },
  {
   "cell_type": "markdown",
   "metadata": {},
   "source": [
    "# Task 2"
   ]
  },
  {
   "cell_type": "code",
   "execution_count": 17,
   "metadata": {},
   "outputs": [
    {
     "name": "stdout",
     "output_type": "stream",
     "text": [
      "[0 1 2 3 4]\n",
      "[[  0   0   0   0   1]\n",
      " [  1   1   1   1   1]\n",
      " [ 16   8   4   2   1]\n",
      " [ 81  27   9   3   1]\n",
      " [256  64  16   4   1]]\n"
     ]
    }
   ],
   "source": [
    "import numpy as np\n",
    "x= np.arange(5)\n",
    "print(x)\n",
    "def vm(arr,n):\n",
    "    op= np.column_stack(x**(n-i-1) for i in range(n))\n",
    "    return op\n",
    "\n",
    "print(vm(x,5))"
   ]
  },
  {
   "cell_type": "code",
   "execution_count": null,
   "metadata": {},
   "outputs": [],
   "source": []
  }
 ],
 "metadata": {
  "kernelspec": {
   "display_name": "Python 3",
   "language": "python",
   "name": "python3"
  },
  "language_info": {
   "codemirror_mode": {
    "name": "ipython",
    "version": 3
   },
   "file_extension": ".py",
   "mimetype": "text/x-python",
   "name": "python",
   "nbconvert_exporter": "python",
   "pygments_lexer": "ipython3",
   "version": "3.6.5"
  }
 },
 "nbformat": 4,
 "nbformat_minor": 2
}
