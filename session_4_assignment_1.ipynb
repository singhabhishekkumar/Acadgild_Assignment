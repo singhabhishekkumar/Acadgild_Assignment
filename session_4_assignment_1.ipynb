{
 "cells": [
  {
   "cell_type": "code",
   "execution_count": 10,
   "metadata": {},
   "outputs": [
    {
     "name": "stdout",
     "output_type": "stream",
     "text": [
      "[15, 14, 17, 20, 29, 86, 148, 218, 252, 280, 349]\n"
     ]
    }
   ],
   "source": [
    "#task 1\n",
    "#write a function to find moving average in array over a window\n",
    "\n",
    "def moving_average(a,k):\n",
    "    n=len(a)\n",
    "    l=[]\n",
    "    for i in range(0,n-k+1,1):\n",
    "        summ=0\n",
    "        for j in range(0,k):\n",
    "            summ=summ+a[i+j]\n",
    "        l.append(summ)\n",
    "    return l  \n",
    "    \n",
    "def main():\n",
    "    k=3\n",
    "    l=[3,5,7,2,8,10,11,65,72,81,99,100,150]\n",
    "    result=moving_average(l,k)\n",
    "    print(result)\n",
    "    \n",
    "if __name__=='__main__':main()"
   ]
  },
  {
   "cell_type": "code",
   "execution_count": 2,
   "metadata": {},
   "outputs": [
    {
     "data": {
      "text/html": [
       "<div>\n",
       "<style scoped>\n",
       "    .dataframe tbody tr th:only-of-type {\n",
       "        vertical-align: middle;\n",
       "    }\n",
       "\n",
       "    .dataframe tbody tr th {\n",
       "        vertical-align: top;\n",
       "    }\n",
       "\n",
       "    .dataframe thead th {\n",
       "        text-align: right;\n",
       "    }\n",
       "</style>\n",
       "<table border=\"1\" class=\"dataframe\">\n",
       "  <thead>\n",
       "    <tr style=\"text-align: right;\">\n",
       "      <th></th>\n",
       "      <th>x</th>\n",
       "      <th>y</th>\n",
       "    </tr>\n",
       "  </thead>\n",
       "  <tbody>\n",
       "    <tr>\n",
       "      <th>0</th>\n",
       "      <td>7</td>\n",
       "      <td>NaN</td>\n",
       "    </tr>\n",
       "    <tr>\n",
       "      <th>1</th>\n",
       "      <td>2</td>\n",
       "      <td>NaN</td>\n",
       "    </tr>\n",
       "    <tr>\n",
       "      <th>2</th>\n",
       "      <td>0</td>\n",
       "      <td>NaN</td>\n",
       "    </tr>\n",
       "    <tr>\n",
       "      <th>3</th>\n",
       "      <td>3</td>\n",
       "      <td>1.0</td>\n",
       "    </tr>\n",
       "    <tr>\n",
       "      <th>4</th>\n",
       "      <td>4</td>\n",
       "      <td>2.0</td>\n",
       "    </tr>\n",
       "    <tr>\n",
       "      <th>5</th>\n",
       "      <td>25</td>\n",
       "      <td>3.0</td>\n",
       "    </tr>\n",
       "    <tr>\n",
       "      <th>6</th>\n",
       "      <td>0</td>\n",
       "      <td>NaN</td>\n",
       "    </tr>\n",
       "    <tr>\n",
       "      <th>7</th>\n",
       "      <td>3</td>\n",
       "      <td>1.0</td>\n",
       "    </tr>\n",
       "    <tr>\n",
       "      <th>8</th>\n",
       "      <td>4</td>\n",
       "      <td>2.0</td>\n",
       "    </tr>\n",
       "  </tbody>\n",
       "</table>\n",
       "</div>"
      ],
      "text/plain": [
       "    x    y\n",
       "0   7  NaN\n",
       "1   2  NaN\n",
       "2   0  NaN\n",
       "3   3  1.0\n",
       "4   4  2.0\n",
       "5  25  3.0\n",
       "6   0  NaN\n",
       "7   3  1.0\n",
       "8   4  2.0"
      ]
     },
     "execution_count": 2,
     "metadata": {},
     "output_type": "execute_result"
    }
   ],
   "source": [
    "import numpy as np\n",
    "import pandas as pd\n",
    "df=pd.DataFrame({'x':[7,2,0,3,4,25,0,3,4]})\n",
    "\n",
    "def Func(y):\n",
    "    l=df[df['x']==y].index.values.astype(int)[0]\n",
    "    j=l-1\n",
    "    while(j>=0):\n",
    "        if df.iloc[j].x!=0:\n",
    "            j=j-1\n",
    "        elif df.iloc[j].x==0:\n",
    "            return l-j   \n",
    "    \n",
    "df['y']=df['x'].apply(Func)\n",
    "df\n"
   ]
  },
  {
   "cell_type": "code",
   "execution_count": 5,
   "metadata": {},
   "outputs": [
    {
     "data": {
      "text/plain": [
       "2015-01-01     756\n",
       "2015-01-02    1346\n",
       "2015-01-05     743\n",
       "2015-01-06     775\n",
       "2015-01-07    1171\n",
       "2015-01-08     752\n",
       "2015-01-09    1237\n",
       "2015-01-12     878\n",
       "2015-01-13     567\n",
       "2015-01-14     701\n",
       "2015-01-15     802\n",
       "2015-01-16    1268\n",
       "2015-01-19     639\n",
       "2015-01-20    1474\n",
       "2015-01-21    1162\n",
       "2015-01-22    1429\n",
       "2015-01-23    1168\n",
       "2015-01-26    1276\n",
       "2015-01-27     994\n",
       "2015-01-28     871\n",
       "2015-01-29     739\n",
       "2015-01-30    1444\n",
       "2015-02-02     785\n",
       "2015-02-03     598\n",
       "2015-02-04     505\n",
       "2015-02-05    1371\n",
       "2015-02-06     897\n",
       "2015-02-09     582\n",
       "2015-02-10    1462\n",
       "2015-02-11     634\n",
       "              ... \n",
       "2015-11-20     784\n",
       "2015-11-23    1370\n",
       "2015-11-24     890\n",
       "2015-11-25     727\n",
       "2015-11-26     843\n",
       "2015-11-27     538\n",
       "2015-11-30     828\n",
       "2015-12-01     928\n",
       "2015-12-02     802\n",
       "2015-12-03     605\n",
       "2015-12-04     768\n",
       "2015-12-07     524\n",
       "2015-12-08    1029\n",
       "2015-12-09     804\n",
       "2015-12-10    1093\n",
       "2015-12-11    1317\n",
       "2015-12-14    1230\n",
       "2015-12-15    1222\n",
       "2015-12-16     784\n",
       "2015-12-17     637\n",
       "2015-12-18    1041\n",
       "2015-12-21    1016\n",
       "2015-12-22     718\n",
       "2015-12-23    1254\n",
       "2015-12-24    1465\n",
       "2015-12-25     547\n",
       "2015-12-28     687\n",
       "2015-12-29    1465\n",
       "2015-12-30    1057\n",
       "2015-12-31    1106\n",
       "Freq: B, Length: 261, dtype: int32"
      ]
     },
     "execution_count": 5,
     "metadata": {},
     "output_type": "execute_result"
    }
   ],
   "source": [
    "\n",
    "import pandas as pd\n",
    "import numpy.random as np\n",
    "index = pd.date_range('2015-01-01', '2015-12-31',freq='B')\n",
    "data=np.randint(500,1500,len(index))\n",
    "s = pd.Series(data, index=index)\n",
    "s"
   ]
  },
  {
   "cell_type": "code",
   "execution_count": 6,
   "metadata": {},
   "outputs": [
    {
     "data": {
      "text/plain": [
       "49740"
      ]
     },
     "execution_count": 6,
     "metadata": {},
     "output_type": "execute_result"
    }
   ],
   "source": [
    "s.groupby(s.index.weekday_name).sum().Wednesday"
   ]
  },
  {
   "cell_type": "code",
   "execution_count": 7,
   "metadata": {},
   "outputs": [
    {
     "data": {
      "text/plain": [
       "1     1008.727273\n",
       "2      967.850000\n",
       "3     1058.090909\n",
       "4      971.454545\n",
       "5     1068.761905\n",
       "6     1106.045455\n",
       "7      941.826087\n",
       "8      991.809524\n",
       "9      949.136364\n",
       "10    1068.000000\n",
       "11     889.238095\n",
       "12     960.826087\n",
       "dtype: float64"
      ]
     },
     "execution_count": 7,
     "metadata": {},
     "output_type": "execute_result"
    }
   ],
   "source": [
    "s.groupby(s.index.month).mean()"
   ]
  },
  {
   "cell_type": "code",
   "execution_count": 9,
   "metadata": {},
   "outputs": [
    {
     "data": {
      "text/plain": [
       "Grouper(key=1     1474\n",
       "2     1462\n",
       "3     1493\n",
       "4     1452\n",
       "5     1432\n",
       "6     1452\n",
       "7     1466\n",
       "8     1494\n",
       "9     1468\n",
       "10    1440\n",
       "11    1479\n",
       "12    1465\n",
       "dtype: int32, axis=0, sort=False)"
      ]
     },
     "execution_count": 9,
     "metadata": {},
     "output_type": "execute_result"
    }
   ],
   "source": [
    "pd.Grouper((s.groupby(s.index.month)).max())"
   ]
  },
  {
   "cell_type": "code",
   "execution_count": null,
   "metadata": {
    "collapsed": true
   },
   "outputs": [],
   "source": []
  }
 ],
 "metadata": {
  "kernelspec": {
   "display_name": "Python 3",
   "language": "python",
   "name": "python3"
  },
  "language_info": {
   "codemirror_mode": {
    "name": "ipython",
    "version": 3
   },
   "file_extension": ".py",
   "mimetype": "text/x-python",
   "name": "python",
   "nbconvert_exporter": "python",
   "pygments_lexer": "ipython3",
   "version": "3.6.5"
  }
 },
 "nbformat": 4,
 "nbformat_minor": 2
}
