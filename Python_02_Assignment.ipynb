{
 "cells": [
  {
   "cell_type": "markdown",
   "metadata": {},
   "source": []
  },
  {
   "cell_type": "markdown",
   "metadata": {},
   "source": [
    "# Task 1"
   ]
  },
  {
   "cell_type": "markdown",
   "metadata": {},
   "source": [
    "# 1.1 Build in reduce function"
   ]
  },
  {
   "cell_type": "code",
   "execution_count": 29,
   "metadata": {},
   "outputs": [
    {
     "data": {
      "text/plain": [
       "24"
      ]
     },
     "execution_count": 29,
     "metadata": {},
     "output_type": "execute_result"
    }
   ],
   "source": [
    "def myreduce(fnc, seq):\n",
    "    tally = seq[0]\n",
    "    for next in seq[1:]:\n",
    "        tally = fnc(tally, next)\n",
    "    return tally\n",
    "\n",
    "myreduce( (lambda x, y: x * y), [1, 2, 3, 4])\n"
   ]
  },
  {
   "cell_type": "markdown",
   "metadata": {},
   "source": [
    "# 1.2 Build in Filter function"
   ]
  },
  {
   "cell_type": "code",
   "execution_count": 42,
   "metadata": {},
   "outputs": [
    {
     "data": {
      "text/plain": [
       "[2, 4, 6]"
      ]
     },
     "execution_count": 42,
     "metadata": {},
     "output_type": "execute_result"
    }
   ],
   "source": [
    " def myFilter(varList):\n",
    "     result = []\n",
    "     for i in varList:\n",
    "             if i % 2 == 0:\n",
    "                     result.append(i)\n",
    "     return result\n",
    "myList\n",
    "myFilter(myList)"
   ]
  },
  {
   "cell_type": "markdown",
   "metadata": {},
   "source": [
    "# 2 Implement List comprehensions to produce the following lists."
   ]
  },
  {
   "cell_type": "code",
   "execution_count": 2,
   "metadata": {},
   "outputs": [
    {
     "name": "stdout",
     "output_type": "stream",
     "text": [
      "['A', 'C', 'A', 'D', 'G', 'I', 'L', 'D']\n"
     ]
    }
   ],
   "source": [
    "lst=[]\n",
    "lst.append('A')\n",
    "lst.append('C')\n",
    "lst.append('A')\n",
    "lst.append('D')\n",
    "lst.append('G')\n",
    "lst.append('I')\n",
    "lst.append('L')\n",
    "lst.append('D')\n",
    "print(lst)"
   ]
  },
  {
   "cell_type": "code",
   "execution_count": 7,
   "metadata": {},
   "outputs": [
    {
     "name": "stdout",
     "output_type": "stream",
     "text": [
      "['x', 'xx', 'xxx', 'xxxx', 'y', 'yy', 'yyy', 'yyyy', 'z', 'zz', 'zzz', 'zzzz']\n"
     ]
    }
   ],
   "source": [
    "lst=['x','y','z']\n",
    "outPutlst =[]\n",
    "str=''\n",
    "for i in lst:\n",
    "    for j in range(4):\n",
    "        str=str+i\n",
    "        outPutlst.append(str)\n",
    "    str=''\n",
    "print(outPutlst)"
   ]
  },
  {
   "cell_type": "code",
   "execution_count": 27,
   "metadata": {},
   "outputs": [
    {
     "name": "stdout",
     "output_type": "stream",
     "text": [
      "['x', 'y', 'z', 'xx', 'yy', 'zz', 'xxx', 'yyy', 'zzz', 'xxxx', 'yyyy', 'zzzz']\n"
     ]
    }
   ],
   "source": [
    "lst=['x','y','z']\n",
    "lst_1=[1,2,3,4]\n",
    "outPutlst=[]\n",
    "for i in range(0,len(lst_1)):\n",
    "    for j in range(0,len(lst)):\n",
    "        outPutlst.append(lst_1[i]*lst[j])\n",
    "print(outPutlst)\n",
    "    "
   ]
  },
  {
   "cell_type": "code",
   "execution_count": 74,
   "metadata": {},
   "outputs": [
    {
     "name": "stdout",
     "output_type": "stream",
     "text": [
      "[[1], [2], [3], [2], [3], [4], [3], [4], [5], [4], [5], [6]]\n"
     ]
    }
   ],
   "source": [
    "lst=[]\n",
    "for i in range(1,5):\n",
    "    for j in range(i,(i+3)):\n",
    "        lst.append(j)\n",
    "tempLst=[]\n",
    "outputLst=[]\n",
    "for i in range(len(lst)):\n",
    "    tempLst.append(lst[i])\n",
    "    outputLst.append(tempLst)\n",
    "    tempLst=[]\n",
    "print(outputLst)"
   ]
  },
  {
   "cell_type": "code",
   "execution_count": 10,
   "metadata": {},
   "outputs": [
    {
     "name": "stdout",
     "output_type": "stream",
     "text": [
      "[[2, 3, 4, 5], [3, 4, 5, 6], [4, 5, 6, 7], [5, 6, 7, 8]]\n"
     ]
    }
   ],
   "source": [
    "lst=[]\n",
    "newLst=[]\n",
    "for i in range(2,6):\n",
    "    for j in range(i,i+4):  \n",
    "        newLst.append(j)\n",
    "    lst.append(newLst)\n",
    "    newLst=[]\n",
    "print(lst)"
   ]
  },
  {
   "cell_type": "code",
   "execution_count": 11,
   "metadata": {},
   "outputs": [
    {
     "name": "stdout",
     "output_type": "stream",
     "text": [
      "[(1, 1), (2, 1), (3, 1), (1, 2), (2, 2), (3, 2), (1, 3), (2, 3), (3, 3)]\n"
     ]
    }
   ],
   "source": [
    "lst=[]\n",
    "newLst=[]\n",
    "for i in range(1,4):\n",
    "    for j in range(1,4):\n",
    "      newLst.append(j)\n",
    "      newLst.append(i)\n",
    "      tu=(j,i)\n",
    "      lst.append(tu)\n",
    "    tu=()\n",
    "print(lst)"
   ]
  },
  {
   "cell_type": "markdown",
   "metadata": {},
   "source": [
    "# 3 Implement a function longestWord() that takes a list of words and returns the longest one."
   ]
  },
  {
   "cell_type": "code",
   "execution_count": 1,
   "metadata": {},
   "outputs": [
    {
     "name": "stdout",
     "output_type": "stream",
     "text": [
      "Enter the number of word you want to enter in list :3\n",
      "Enter the word :i am good\n",
      "Enter the word :i am not good\n",
      "Enter the word :i am bad\n",
      "['i am good', 'i am not good', 'i am bad']\n"
     ]
    },
    {
     "data": {
      "text/plain": [
       "'i am not good'"
      ]
     },
     "execution_count": 1,
     "metadata": {},
     "output_type": "execute_result"
    }
   ],
   "source": [
    "def find_longest_word(words_list):  \n",
    "    word_len = []  \n",
    "    for n in words_list:  \n",
    "        word_len.append((len(n), n))  \n",
    "    word_len.sort()  \n",
    "    return word_len[-1][1]  \n",
    "  \n",
    "list=[]\n",
    "x = int(input(\"Enter the number of word you want to enter in list :\"))\n",
    "for i in range(x):\n",
    "    list.append((input(\"Enter the word :\")))\n",
    "print(list)\n",
    "find_longest_word(list)\n"
   ]
  },
  {
   "cell_type": "markdown",
   "metadata": {},
   "source": [
    "# Task 2"
   ]
  },
  {
   "cell_type": "markdown",
   "metadata": {},
   "source": [
    "# 1.1 Write a python program with class to print the area of triangle"
   ]
  },
  {
   "cell_type": "code",
   "execution_count": 17,
   "metadata": {},
   "outputs": [
    {
     "name": "stdout",
     "output_type": "stream",
     "text": [
      "Enter the value of a = 18\n",
      "Enter the value of b = 27\n",
      "Enter the value of c = 38\n",
      "area : 222.47232974012746\n"
     ]
    }
   ],
   "source": [
    "class Triangle:\n",
    " \n",
    "    def __init__(self,a,b,c):\n",
    "        self.a = float(a)\n",
    "        self.b = float(b)\n",
    "        self.c = float(c)\n",
    " \n",
    "    def area(self):\n",
    "        s=(self.a + self.b + self.c)/2\n",
    "        return((s*(s-self.a)*(s-self.b)*(s-self.c))**0.5)\n",
    " \n",
    "a=input(\"Enter the value of a = \")\n",
    "b=input(\"Enter the value of b = \")\n",
    "c=input(\"Enter the value of c = \")\n",
    "t = Triangle(a, b, c)\n",
    "print(\"area : {}\".format(t.area()))"
   ]
  },
  {
   "cell_type": "markdown",
   "metadata": {},
   "source": [
    "# 1.2 Write a function filter_long_words() that takes a list of words and an integer n and returns the list of words that are longer than n\n"
   ]
  },
  {
   "cell_type": "code",
   "execution_count": 24,
   "metadata": {},
   "outputs": [
    {
     "name": "stdout",
     "output_type": "stream",
     "text": [
      "Enter words, separated by spaces: sdbh,kisask,auhauhash,ashuahfuajackj,asahdhash\n",
      "Minimum length of words to keep: 5\n",
      "Words longer than 5 are sdbh,kisask,auhauhash,ashuahfuajackj,asahdhash.\n"
     ]
    }
   ],
   "source": [
    "def longestwords(wordlist, length):\n",
    "    return (word for word in wordlist if len(word) >= length)\n",
    "\n",
    "def calculateGreater():\n",
    "    words = input(\"Enter words, separated by spaces: \").split()\n",
    "    length = int(input(\"Minimum length of words to keep: \"))\n",
    "    print(\"Words longer than {} are {}.\".format(length,\n",
    "          ', '.join(longestwords(words, length))))\n",
    "calculateGreater()"
   ]
  },
  {
   "cell_type": "markdown",
   "metadata": {},
   "source": [
    "# 2.1 Write a Python program using function concept that maps list of words into a list of integers representing the lengths of the corresponding words."
   ]
  },
  {
   "cell_type": "code",
   "execution_count": 14,
   "metadata": {},
   "outputs": [],
   "source": [
    "def numberOfWordsList(list):\n",
    "    listInt=[]\n",
    "    for i in list:\n",
    "        number=0\n",
    "        for j in i:\n",
    "            number+=1\n",
    "        listInt.append(number)\n",
    "    print(\"Count of the character in List is : \", listInt)\n",
    "    \n"
   ]
  },
  {
   "cell_type": "code",
   "execution_count": 15,
   "metadata": {},
   "outputs": [
    {
     "name": "stdout",
     "output_type": "stream",
     "text": [
      "Enter the total value of the List :5\n",
      "Enter the value in List :qdankhih\n",
      "Enter the value in List :ahdsdbkbskd\n",
      "Enter the value in List :akbaidikask\n",
      "Enter the value in List :askcaskkasknak\n",
      "Enter the value in List :akbabsbakbk\n",
      "The List is :  ['qdankhih', 'ahdsdbkbskd', 'akbaidikask', 'askcaskkasknak', 'akbabsbakbk']\n",
      "Count of the character in List is :  [8, 11, 11, 14, 11]\n"
     ]
    }
   ],
   "source": [
    "totalValue=int(input(\"Enter the total value of the List :\"))\n",
    "myList=[]\n",
    "for i in range(totalValue):\n",
    "    value=input(\"Enter the value in List :\")\n",
    "    myList.append(value)    \n",
    "print(\"The List is : \",myList)\n",
    "numberOfWordsList(myList)"
   ]
  },
  {
   "cell_type": "markdown",
   "metadata": {},
   "source": [
    "# 2.2 Write a Python function which takes a character (i.e. a string of length 1) and returns True if it isa vowel, False otherwise."
   ]
  },
  {
   "cell_type": "code",
   "execution_count": 134,
   "metadata": {},
   "outputs": [],
   "source": [
    "def is_vowel(value):\n",
    "    list = ['a','e','i','o','u','A','E','I','O','U']\n",
    "    if value in list:\n",
    "        print(\"The character\",value,\"is a vowel\")\n",
    "    else:\n",
    "        print(\"The character\",value,\"is not a vowel\")\n",
    "        \n",
    "        "
   ]
  },
  {
   "cell_type": "code",
   "execution_count": 135,
   "metadata": {},
   "outputs": [
    {
     "name": "stdout",
     "output_type": "stream",
     "text": [
      "Enter a character to find if it is vowel or not :A\n",
      "The character A is a vowel\n"
     ]
    }
   ],
   "source": [
    "chr = input(\"Enter a character to find if it is vowel or not :\")\n",
    "is_vowel(chr)"
   ]
  },
  {
   "cell_type": "code",
   "execution_count": null,
   "metadata": {},
   "outputs": [],
   "source": []
  }
 ],
 "metadata": {
  "kernelspec": {
   "display_name": "Python 3",
   "language": "python",
   "name": "python3"
  },
  "language_info": {
   "codemirror_mode": {
    "name": "ipython",
    "version": 3
   },
   "file_extension": ".py",
   "mimetype": "text/x-python",
   "name": "python",
   "nbconvert_exporter": "python",
   "pygments_lexer": "ipython3",
   "version": "3.6.5"
  }
 },
 "nbformat": 4,
 "nbformat_minor": 2
}
