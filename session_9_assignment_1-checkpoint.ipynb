{
 "cells": [
  {
   "cell_type": "markdown",
   "metadata": {},
   "source": [
    "# 1. You survey households in your area to find the average rent they are paying. Find the standard deviation from the following data:"
   ]
  },
  {
   "cell_type": "code",
   "execution_count": 1,
   "metadata": {
    "collapsed": true
   },
   "outputs": [],
   "source": [
    "import pandas as pd\n",
    "import numpy as np\n",
    "survey_data=(1550,1700,900,850,1000,950)"
   ]
  },
  {
   "cell_type": "code",
   "execution_count": 2,
   "metadata": {},
   "outputs": [
    {
     "data": {
      "text/plain": [
       "1158.3333333333333"
      ]
     },
     "execution_count": 2,
     "metadata": {},
     "output_type": "execute_result"
    }
   ],
   "source": [
    "np.mean(survey_data)"
   ]
  },
  {
   "cell_type": "code",
   "execution_count": 3,
   "metadata": {},
   "outputs": [
    {
     "data": {
      "text/plain": [
       "335.92740617910624"
      ]
     },
     "execution_count": 3,
     "metadata": {},
     "output_type": "execute_result"
    }
   ],
   "source": [
    "np.std(survey_data)"
   ]
  },
  {
   "cell_type": "markdown",
   "metadata": {},
   "source": [
    "# 2.Find the variance for the following set of data representing trees in California (heights in feet): 3, 21, 98, 203, 17, 9"
   ]
  },
  {
   "cell_type": "code",
   "execution_count": 4,
   "metadata": {
    "collapsed": true
   },
   "outputs": [],
   "source": [
    "height=[3,21,98,203,17,9]\n",
    "df=pd.DataFrame(height)"
   ]
  },
  {
   "cell_type": "code",
   "execution_count": 5,
   "metadata": {},
   "outputs": [
    {
     "data": {
      "text/plain": [
       "0    6219.9\n",
       "dtype: float64"
      ]
     },
     "execution_count": 5,
     "metadata": {},
     "output_type": "execute_result"
    }
   ],
   "source": [
    "df.var()"
   ]
  },
  {
   "cell_type": "markdown",
   "metadata": {},
   "source": [
    "# 3.In a class on 100 students, 80 students passed in all subjects, 10 failed in one subject, 7 failed in two subjects and 3 failed in three subjects. Find the probability distribution of the variable for number of subjects a student from the given class has failed in."
   ]
  },
  {
   "cell_type": "markdown",
   "metadata": {},
   "source": [
    "Total Student in class         = 100\n",
    "\n",
    "Student failed in 0 subject    = 80\n",
    "\n",
    "Student failed in 1 subject    = 10\n",
    "\n",
    "Student failed in 2 subjects   = 7\n",
    "\n",
    "Student failed in 3 subjects   = 3"
   ]
  },
  {
   "cell_type": "markdown",
   "metadata": {},
   "source": [
    "Probability failing in 0 subject P(X=0) = 80/100 = .8\n",
    "\n",
    "Probability failing in 1 subject P(X=1) = 10/100 = .1\n",
    "\n",
    "Probability failing in 2 subject P(X=2) = 7/100  = .07\n",
    "\n",
    "Probability failing in 3 subject P(X=3) = 3/100  = .03"
   ]
  },
  {
   "cell_type": "code",
   "execution_count": 6,
   "metadata": {
    "collapsed": true
   },
   "outputs": [],
   "source": [
    "prob = [.8, .1, .07, .03]"
   ]
  },
  {
   "cell_type": "code",
   "execution_count": 8,
   "metadata": {
    "collapsed": true
   },
   "outputs": [],
   "source": [
    "df=pd.DataFrame(data={'Failed Subjects(X)':['X=0', 'X=1', 'X=2', 'X=3'],'P(X)': prob})\n"
   ]
  },
  {
   "cell_type": "code",
   "execution_count": 9,
   "metadata": {},
   "outputs": [
    {
     "data": {
      "text/html": [
       "<div>\n",
       "<style scoped>\n",
       "    .dataframe tbody tr th:only-of-type {\n",
       "        vertical-align: middle;\n",
       "    }\n",
       "\n",
       "    .dataframe tbody tr th {\n",
       "        vertical-align: top;\n",
       "    }\n",
       "\n",
       "    .dataframe thead th {\n",
       "        text-align: right;\n",
       "    }\n",
       "</style>\n",
       "<table border=\"1\" class=\"dataframe\">\n",
       "  <thead>\n",
       "    <tr style=\"text-align: right;\">\n",
       "      <th></th>\n",
       "      <th>Failed Subjects(X)</th>\n",
       "      <th>P(X)</th>\n",
       "    </tr>\n",
       "  </thead>\n",
       "  <tbody>\n",
       "    <tr>\n",
       "      <th>0</th>\n",
       "      <td>X=0</td>\n",
       "      <td>0.80</td>\n",
       "    </tr>\n",
       "    <tr>\n",
       "      <th>1</th>\n",
       "      <td>X=1</td>\n",
       "      <td>0.10</td>\n",
       "    </tr>\n",
       "    <tr>\n",
       "      <th>2</th>\n",
       "      <td>X=2</td>\n",
       "      <td>0.07</td>\n",
       "    </tr>\n",
       "    <tr>\n",
       "      <th>3</th>\n",
       "      <td>X=3</td>\n",
       "      <td>0.03</td>\n",
       "    </tr>\n",
       "  </tbody>\n",
       "</table>\n",
       "</div>"
      ],
      "text/plain": [
       "  Failed Subjects(X)  P(X)\n",
       "0                X=0  0.80\n",
       "1                X=1  0.10\n",
       "2                X=2  0.07\n",
       "3                X=3  0.03"
      ]
     },
     "execution_count": 9,
     "metadata": {},
     "output_type": "execute_result"
    }
   ],
   "source": [
    "df"
   ]
  },
  {
   "cell_type": "markdown",
   "metadata": {},
   "source": [
    "# Task 2:"
   ]
  },
  {
   "cell_type": "markdown",
   "metadata": {},
   "source": [
    "# 1.A test is conducted which is consisting of 20 MCQs (multiple choices questions) with every MCQ having its four options out of which only one is correct. Determine the probability that a person undertaking that test has answered exactly 5 questions wrong."
   ]
  },
  {
   "cell_type": "markdown",
   "metadata": {},
   "source": [
    "n = 20          # No. of trials (given in problem statement)\n",
    "\n",
    "n-k = 5         # Count of getting a wrong answer (given in problem statement)\n",
    "\n",
    "k = 15          # Count of success (derived by n-k = 5)\n",
    "\n",
    "s = 1/4         # Probability of success (given in problem statement)"
   ]
  },
  {
   "cell_type": "code",
   "execution_count": 22,
   "metadata": {},
   "outputs": [
    {
     "data": {
      "text/plain": [
       "3.4264958230778435e-06"
      ]
     },
     "execution_count": 22,
     "metadata": {},
     "output_type": "execute_result"
    }
   ],
   "source": [
    "import numpy as np\n",
    "from scipy.stats import binom\n",
    "\n",
    "probab = binom.pmf(15,20,1/4)   # binom.pmf(k,n,s)\n",
    "probab"
   ]
  },
  {
   "cell_type": "code",
   "execution_count": 23,
   "metadata": {},
   "outputs": [
    {
     "name": "stdout",
     "output_type": "stream",
     "text": [
      "\n",
      " The probability that a person undertaking test has answered exactly 5 questions wrong is = 3.4264958230778435e-06\n"
     ]
    }
   ],
   "source": [
    "print(\"\\n The probability that a person undertaking test has answered exactly 5 questions wrong is = \" +str(probab))"
   ]
  },
  {
   "cell_type": "markdown",
   "metadata": {},
   "source": [
    "# 2. A die marked A to E is rolled 50 times. Find the probability of getting a “D” exactly 5 times"
   ]
  },
  {
   "cell_type": "markdown",
   "metadata": {},
   "source": [
    "n = 50          # No. of trials (given in problem statement)\n",
    "\n",
    "k = 5           # Count of success (given)\n",
    "\n",
    "n-k = 45        # Count of getting a wrong answer (derived by n-k)\n",
    "\n",
    "s = 1/5     # Probability of success (given in problem statement)"
   ]
  },
  {
   "cell_type": "code",
   "execution_count": 24,
   "metadata": {},
   "outputs": [
    {
     "data": {
      "text/plain": [
       "0.029531204310523224"
      ]
     },
     "execution_count": 24,
     "metadata": {},
     "output_type": "execute_result"
    }
   ],
   "source": [
    "import numpy as np\n",
    "from scipy.stats import binom\n",
    "\n",
    "probab = binom.pmf(5,50,1/5)   # binom.pmf(k,n,s)\n",
    "probab"
   ]
  },
  {
   "cell_type": "code",
   "execution_count": 26,
   "metadata": {},
   "outputs": [
    {
     "name": "stdout",
     "output_type": "stream",
     "text": [
      "\n",
      " Probability of getting a “D” exactly 5 times = 0.029531204310523224\n"
     ]
    }
   ],
   "source": [
    "print(\"\\n Probability of getting a “D” exactly 5 times = \" +str(probab))"
   ]
  },
  {
   "cell_type": "markdown",
   "metadata": {},
   "source": [
    "# 3.Two balls are drawn at random in succession without replacement from an urn containing 4 red balls and 6 black balls. Find the probabilities of all the possible outcomes."
   ]
  },
  {
   "cell_type": "markdown",
   "metadata": {},
   "source": [
    "Red balls (R)=4\n",
    "Black balls (B)=6\n",
    "Total balls (T)=10\n"
   ]
  },
  {
   "cell_type": "markdown",
   "metadata": {},
   "source": [
    "Total ways to draw 2 balls=10*9=90 ways\n",
    "\n",
    "Ways to draw both red balls (RR)=4*3=12 ways\n",
    "\n",
    "Ways to draw 1 red and 1 black ball (RB)=4*6=24 ways\n",
    "\n",
    "Ways to draw 1 black and 1 red ball (BR)=6*4=24 ways\n",
    "\n",
    "Ways to draw both black balls (BB)=\t6*5=30 ways\n",
    "\n"
   ]
  },
  {
   "cell_type": "markdown",
   "metadata": {},
   "source": [
    "the  probability of all possible outcomes are:"
   ]
  },
  {
   "cell_type": "markdown",
   "metadata": {},
   "source": [
    "Probability of drawing both red balls (RR) =   (4/10)*(3/9) =  12/90  = .1333 =  13.33 %\n",
    "\n",
    "Probab of drawing 1 red & 1 black ball (RB) =   (4/10)*(6/9)=  24/90  = .2666 =  26.67 %\n",
    "\n",
    "Probab of drawing 1 black & 1 red ball (RB) =   (6/10)*(4/9)=  24/90  = .2666 =  26.67%\n",
    "\n",
    "Probability of drawing both black balls (BB) =   (6/10)*(5/9) = 30/90  =.3333 =  33.33 %\n"
   ]
  }
 ],
 "metadata": {
  "kernelspec": {
   "display_name": "Python 3",
   "language": "python",
   "name": "python3"
  },
  "language_info": {
   "codemirror_mode": {
    "name": "ipython",
    "version": 3
   },
   "file_extension": ".py",
   "mimetype": "text/x-python",
   "name": "python",
   "nbconvert_exporter": "python",
   "pygments_lexer": "ipython3",
   "version": "3.6.4"
  }
 },
 "nbformat": 4,
 "nbformat_minor": 2
}
